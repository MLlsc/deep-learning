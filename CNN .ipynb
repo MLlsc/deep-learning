{
 "cells": [
  {
   "cell_type": "code",
   "execution_count": 29,
   "metadata": {
    "collapsed": true
   },
   "outputs": [],
   "source": [
    "import numpy as np\n",
    "from  matplotlib import pyplot as plt "
   ]
  },
  {
   "cell_type": "code",
   "execution_count": 30,
   "metadata": {
    "collapsed": true
   },
   "outputs": [],
   "source": [
    "np.random.seed(6)\n",
    "#随机数，这样做的目的是在每次运行程序时，初始值保持一致。seed的值可以随便设置。"
   ]
  },
  {
   "cell_type": "code",
   "execution_count": 31,
   "metadata": {},
   "outputs": [],
   "source": [
    "import keras \n",
    "from keras.models import Sequential "
   ]
  },
  {
   "cell_type": "code",
   "execution_count": 32,
   "metadata": {
    "collapsed": true
   },
   "outputs": [],
   "source": [
    "from keras.layers import Dense , Dropout ,Activation, Flatten"
   ]
  },
  {
   "cell_type": "code",
   "execution_count": 33,
   "metadata": {
    "collapsed": true
   },
   "outputs": [],
   "source": [
    "from keras.layers import Conv2D ,MaxPooling2D\n",
    "#卷积层，池化层"
   ]
  },
  {
   "cell_type": "code",
   "execution_count": 34,
   "metadata": {
    "collapsed": true
   },
   "outputs": [],
   "source": [
    "from keras.utils import np_utils"
   ]
  },
  {
   "cell_type": "code",
   "execution_count": 35,
   "metadata": {
    "collapsed": true
   },
   "outputs": [],
   "source": [
    "from keras.datasets import mnist"
   ]
  },
  {
   "cell_type": "code",
   "execution_count": 36,
   "metadata": {
    "collapsed": true
   },
   "outputs": [],
   "source": [
    "(X_train,y_train),(X_test,y_test)=mnist.load_data()\n",
    "#导入mnist数据"
   ]
  },
  {
   "cell_type": "code",
   "execution_count": 37,
   "metadata": {
    "collapsed": true
   },
   "outputs": [],
   "source": [
    "X_train = X_train.reshape(X_train.shape[0], 28, 28, 1)\n",
    "X_test = X_test.reshape(X_test.shape[0], 28, 28, 1)\n",
    "#这里大家可能不是很了解，主要是为了把mnist数据变成二维图片形式"
   ]
  },
  {
   "cell_type": "code",
   "execution_count": 38,
   "metadata": {
    "collapsed": true
   },
   "outputs": [],
   "source": [
    "X_train = X_train.astype('float32')\n",
    "X_test = X_test.astype('float32')\n",
    "X_train /= 255\n",
    "X_test /= 255\n",
    "#做标准化（0，1）之间\n",
    "#深度学习对样本值敏感需要做标准化处理"
   ]
  },
  {
   "cell_type": "code",
   "execution_count": 39,
   "metadata": {
    "collapsed": true
   },
   "outputs": [],
   "source": [
    "Y_train = np_utils.to_categorical(y_train, 10)\n",
    "Y_test = np_utils.to_categorical(y_test, 10)\n",
    "#把标签值变成一维数组显示，例如 标签1 ——0100000000"
   ]
  },
  {
   "cell_type": "code",
   "execution_count": 40,
   "metadata": {},
   "outputs": [
    {
     "name": "stdout",
     "output_type": "stream",
     "text": [
      "(60000,)\n",
      "(60000, 10)\n"
     ]
    }
   ],
   "source": [
    "print y_train.shape\n",
    "print Y_train.shape\n",
    "#大家可以看看结果"
   ]
  },
  {
   "cell_type": "code",
   "execution_count": 41,
   "metadata": {
    "collapsed": true,
    "scrolled": false
   },
   "outputs": [],
   "source": [
    "model = Sequential()\n",
    "model.add(Conv2D(64, kernel_size=(3, 3),\n",
    "                 activation='relu',\n",
    "                 input_shape=(28,28,1)))\n",
    "model.add(MaxPooling2D(pool_size=(2, 2)))\n",
    "#第一层卷积层，32个特征图，每个特征图中的神经元与输入中的3×3的领域相连，\n",
    "model.add(Conv2D(32, (3, 3), activation='relu'))\n",
    "#第二层卷积层，\n",
    "model.add(MaxPooling2D(pool_size=(2, 2)))\n",
    "#池化层 2×2\n",
    "model.add(Dropout(0.25))\n",
    "#Dropou算法用于测试集的精确度的优化\n",
    "model.add(Flatten())\n",
    "model.add(Dropout(0.25))\n",
    "#把二维数组拉成一维\n",
    "model.add(Dense(128, activation='relu'))\n",
    "#正常的神经网络层\n",
    "model.add(Dropout(0.25))\n",
    "model.add(Dense(10, activation='softmax'))"
   ]
  },
  {
   "cell_type": "code",
   "execution_count": 42,
   "metadata": {
    "scrolled": true
   },
   "outputs": [
    {
     "name": "stdout",
     "output_type": "stream",
     "text": [
      "Epoch 1/10\n",
      "60000/60000 [==============================] - 96s - loss: 0.2378 - acc: 0.9260    \n",
      "Epoch 2/10\n",
      "60000/60000 [==============================] - 96s - loss: 0.0910 - acc: 0.9716    \n",
      "Epoch 3/10\n",
      "60000/60000 [==============================] - 96s - loss: 0.0715 - acc: 0.9780    \n",
      "Epoch 4/10\n",
      "60000/60000 [==============================] - 100s - loss: 0.0603 - acc: 0.9809   \n",
      "Epoch 5/10\n",
      "60000/60000 [==============================] - 99s - loss: 0.0544 - acc: 0.9830    \n",
      "Epoch 6/10\n",
      "60000/60000 [==============================] - 99s - loss: 0.0500 - acc: 0.9843     - ETA: 1s - loss: 0.0498  - ETA: 0s - loss: 0.0502 - \n",
      "Epoch 7/10\n",
      "60000/60000 [==============================] - 100s - loss: 0.0453 - acc: 0.9856   \n",
      "Epoch 8/10\n",
      "60000/60000 [==============================] - 101s - loss: 0.0427 - acc: 0.9864   \n",
      "Epoch 9/10\n",
      "60000/60000 [==============================] - 101s - loss: 0.0396 - acc: 0.9877   \n",
      "Epoch 10/10\n",
      "60000/60000 [==============================] - 102s - loss: 0.0362 - acc: 0.9886   \n",
      "('Test loss:', 0.022973005042356089)\n",
      "('Test accuracy:', 0.9929)\n"
     ]
    }
   ],
   "source": [
    "model.compile(loss='categorical_crossentropy',\n",
    "              optimizer='adam',\n",
    "              metrics=['accuracy'])\n",
    "\n",
    "model.fit(X_train, Y_train, \n",
    "          batch_size=40, epochs=10, verbose=1)\n",
    "\n",
    "score = model.evaluate(X_test, Y_test, verbose=0)\n",
    "print('Test loss:', score[0])\n",
    "print('Test accuracy:', score[1])"
   ]
  },
  {
   "cell_type": "code",
   "execution_count": null,
   "metadata": {
    "collapsed": true
   },
   "outputs": [],
   "source": []
  },
  {
   "cell_type": "code",
   "execution_count": null,
   "metadata": {
    "collapsed": true
   },
   "outputs": [],
   "source": []
  }
 ],
 "metadata": {
  "kernelspec": {
   "display_name": "Python 2",
   "language": "python",
   "name": "python2"
  },
  "language_info": {
   "codemirror_mode": {
    "name": "ipython",
    "version": 2
   },
   "file_extension": ".py",
   "mimetype": "text/x-python",
   "name": "python",
   "nbconvert_exporter": "python",
   "pygments_lexer": "ipython2",
   "version": "2.7.12"
  }
 },
 "nbformat": 4,
 "nbformat_minor": 2
}
